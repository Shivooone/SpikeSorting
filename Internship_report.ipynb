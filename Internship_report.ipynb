{
 "cells": [
  {
   "cell_type": "markdown",
   "id": "8e6b67b8-5b29-4f92-ace5-01066e309a48",
   "metadata": {},
   "source": [
    "Internship report\n"
   ]
  },
  {
   "cell_type": "code",
   "execution_count": null,
   "id": "97e7ec4d-be72-4cec-9eed-b84c233f6c00",
   "metadata": {},
   "outputs": [],
   "source": []
  }
 ],
 "metadata": {
  "kernelspec": {
   "display_name": "Spikeline",
   "language": "python",
   "name": "spikeline"
  },
  "language_info": {
   "codemirror_mode": {
    "name": "ipython",
    "version": 3
   },
   "file_extension": ".py",
   "mimetype": "text/x-python",
   "name": "python",
   "nbconvert_exporter": "python",
   "pygments_lexer": "ipython3",
   "version": "3.7.10"
  }
 },
 "nbformat": 4,
 "nbformat_minor": 5
}
